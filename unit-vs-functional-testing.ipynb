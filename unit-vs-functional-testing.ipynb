{
 "cells": [
  {
   "cell_type": "markdown",
   "id": "4706d88f-3ab4-41fa-9981-2a93620ad7ea",
   "metadata": {},
   "source": [
    "# Unit Testing Vs Functional Testing"
   ]
  },
  {
   "cell_type": "markdown",
   "id": "66f465dd-ecb8-4cd8-bb70-3ac2c709d877",
   "metadata": {},
   "source": [
    "### What is Unit Testing?\n",
    "\n",
    "[A unit test is a way of testing a unit - the smallest piece of code that can be logically isolated in a system.](https://smartbear.com/learn/automated-testing/what-is-unit-testing/)\n",
    "\n",
    "Since unittest is designed to test only the individual unit (i.e. function/method), other function defined in the individual unit will need to be [Mocked](https://docs.python.org/3/library/unittest.mock.html) out.\n",
    "\n",
    "### What is Functional Testing?\n",
    "\n",
    "Since functional tests are designed to test your code in it's entirety, you will only mock out external apps / resources."
   ]
  },
  {
   "cell_type": "markdown",
   "id": "7907c842-c3d4-4869-a751-f3b00dd34c0e",
   "metadata": {},
   "source": [
    "## Example"
   ]
  },
  {
   "cell_type": "code",
   "execution_count": 11,
   "id": "273bd33e-05fe-4744-a4df-9538e2892b26",
   "metadata": {},
   "outputs": [],
   "source": [
    "def add(a, b):\n",
    "    sum = a + b\n",
    "    return sum\n",
    "\n",
    "\n",
    "def calculator(a, b):\n",
    "    result = add(a, b)\n",
    "    return result"
   ]
  },
  {
   "cell_type": "markdown",
   "id": "c30be3f3-95b6-4c0f-be0e-412a8ae3ef07",
   "metadata": {},
   "source": [
    "### Unit Test Example\n",
    "\n",
    "Since we are unit testing the `calculator` function, we\n",
    "need to mock out other functions (i.e. `add`). This is because we are unittesting calculator."
   ]
  },
  {
   "cell_type": "code",
   "execution_count": 12,
   "id": "f08e75d3-56f0-4b60-9b90-b8bbd36929b7",
   "metadata": {},
   "outputs": [],
   "source": [
    "from unittest.mock import patch\n",
    "\n",
    "def test_calculator():\n",
    "    \"\"\" Unittest calculator example \"\"\"\n",
    "    a = 2\n",
    "    b = 2\n",
    "    expected_result = a + b\n",
    "    \n",
    "    # mock out add function since we are only \n",
    "    # unit testing the `calculator` function (unit)\n",
    "    with patch(\"__main__.add\") as mock_add:\n",
    "        mock_add.return_value = expected_result\n",
    "        assert calculator(a, b) == expected_result\n",
    "\n",
    "test_calculator()"
   ]
  },
  {
   "cell_type": "markdown",
   "id": "43f8d4af-71f6-458a-be6a-f2ee85e4c91b",
   "metadata": {},
   "source": [
    "### Functional Test Example\n",
    "\n",
    "Since `add` is code that is apart of the code we wrote, there is no need to mock it out when we functional test `calculator`."
   ]
  },
  {
   "cell_type": "code",
   "execution_count": 13,
   "id": "c3525194-0ce8-4797-8af7-e7f2c679fc92",
   "metadata": {},
   "outputs": [],
   "source": [
    "def test_calculator():\n",
    "    \"\"\" Functional test calculator exmaple \"\"\"\n",
    "    a = 2\n",
    "    b = 2\n",
    "    expected_result = a + b\n",
    "    assert calculator(a, b) == expected_result\n",
    "\n",
    "test_calculator()"
   ]
  },
  {
   "cell_type": "markdown",
   "id": "6f83c179-b271-464d-b62c-2c72f885853b",
   "metadata": {},
   "source": [
    "## Why Use Functional Testing over Unit Testing?\n",
    "\n",
    "- *simplicity*: writing functional tests are simple and quick since it only requires mocking out external apps / resources / libraries.\n",
    "- *efficiant*: Since we are able to test multiple written functions with a single test it will be able to cover more code."
   ]
  },
  {
   "cell_type": "markdown",
   "id": "20717a1a-2b24-47c7-982f-1286267f2d4f",
   "metadata": {},
   "source": [
    "## Conclusion\n",
    "\n",
    "In my opinion, functional tests should be the bare minimum for testing a project. \n",
    "It is simple and efficiant to write functional tests since they test the codes functionality in its entirety without needing to mock out our own code. \n",
    "If time is not a constrant, adding unit tests would be a beneficial addition but should not be necessary for every project."
   ]
  },
  {
   "cell_type": "code",
   "execution_count": null,
   "id": "9bc0de71-71f6-4178-a32b-39442e0f7ee8",
   "metadata": {},
   "outputs": [],
   "source": []
  }
 ],
 "metadata": {
  "kernelspec": {
   "display_name": "Python 3 (ipykernel)",
   "language": "python",
   "name": "python3"
  },
  "language_info": {
   "codemirror_mode": {
    "name": "ipython",
    "version": 3
   },
   "file_extension": ".py",
   "mimetype": "text/x-python",
   "name": "python",
   "nbconvert_exporter": "python",
   "pygments_lexer": "ipython3",
   "version": "3.9.0"
  }
 },
 "nbformat": 4,
 "nbformat_minor": 5
}
